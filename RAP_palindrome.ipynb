{
 "cells": [
  {
   "cell_type": "code",
   "execution_count": null,
   "metadata": {},
   "outputs": [],
   "source": [
    "\n",
    "input5_value = input(\"Enter the string:\")\n",
    "\n",
    "\n",
    "chars = 256 \n",
    "\n",
    "def reversepal(inp):\n",
    "    \n",
    "    repeat = [0] * 256\n",
    "#     To find char is present in odd index \n",
    "    odd = 0\n",
    "    \n",
    "    for i in range(len(inp)):\n",
    "#   Calculate no of time char repeated \n",
    "        repeat[ord(inp[i])] = repeat[ord(inp[i])] + 1\n",
    "    \n",
    "# To find string can be rearrange into palindrome or not\n",
    "    for i in range(chars):\n",
    "#         why \"& 1\" in chars list except input char remaining element are 0\n",
    "#         To make if condition false we use and operator 0 & 1 = 0(false)\n",
    "\n",
    "        if(repeat[i] & 1):\n",
    "            odd += 1\n",
    "#             If odd char is more then one time repeated it cant be a palindrome \n",
    "        if(odd > 1):\n",
    "            return \"palindrome is not possible\"\n",
    "    return \"palindrom is posible \"\n",
    "      \n",
    "   \n",
    "reversepal(input5_value)"
   ]
  }
 ],
 "metadata": {
  "kernelspec": {
   "display_name": "Python 3",
   "language": "python",
   "name": "python3"
  },
  "language_info": {
   "codemirror_mode": {
    "name": "ipython",
    "version": 3
   },
   "file_extension": ".py",
   "mimetype": "text/x-python",
   "name": "python",
   "nbconvert_exporter": "python",
   "pygments_lexer": "ipython3",
   "version": "3.7.4"
  }
 },
 "nbformat": 4,
 "nbformat_minor": 2
}
