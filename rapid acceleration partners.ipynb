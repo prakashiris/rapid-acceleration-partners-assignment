{
 "cells": [
  {
   "cell_type": "markdown",
   "metadata": {},
   "source": [
    "### 1. Write a program that prints the numbers from 1 to N. \n",
    "But, for **multiples of three,  print “Fizz”**instead of the number and for the **multiples of five print “Buzz”**. \n",
    "For numbers which are **multiples of both three and five print “FizzBuzz”**.\n",
    "\n",
    "Below is an example:\n",
    "\n",
    "Input: N = 17\n",
    "Output:\n",
    "1,2,Fizz,4,Buzz,Fizz,7,8,Fizz,Buzz,11,Fizz,13,14,FizzBuzz,16,17"
   ]
  },
  {
   "cell_type": "code",
   "execution_count": 2,
   "metadata": {},
   "outputs": [
    {
     "name": "stdout",
     "output_type": "stream",
     "text": [
      "Enter the range value: 20\n",
      "1\n",
      "2\n",
      "Fizz\n",
      "4\n",
      "Buzz\n",
      "Fizz\n",
      "7\n",
      "8\n",
      "Fizz\n",
      "Buzz\n",
      "11\n",
      "Fizz\n",
      "13\n",
      "14\n",
      "FizzBuzz\n",
      "16\n",
      "17\n",
      "Fizz\n",
      "19\n",
      "Buzz\n"
     ]
    }
   ],
   "source": [
    "#Input the range (number time loop need to executed):\n",
    "\n",
    "input1_value = int(input(\"Enter the range value: \"))\n",
    "\n",
    "for input1_value in range(1, input1_value+1):\n",
    "    \n",
    "#     We need to check first any number divisble by both 3 and 5 or 15(5*3) should print(\"FizzBuzz\")\n",
    "    if input1_value % 15 == 0:\n",
    "        print(\"FizzBuzz\")\n",
    "#     If a number multiple of 3 can also divisible by 3,\n",
    "#     So if any value divisible by only 3 print \"Fizz\"\n",
    "    elif input1_value % 3 == 0:\n",
    "        print(\"Fizz\")\n",
    "#     If a number multiple of 5 can also divisible by 5,\n",
    "#     So if any value divisible by only 5 print \"Buzz\"\n",
    "    elif input1_value % 5 == 0:\n",
    "        print(\"Buzz\")\n",
    "    else:\n",
    "#     If number is not divisible by 3 or 5 or 15 print input value as like \n",
    "        print(input1_value)"
   ]
  },
  {
   "cell_type": "markdown",
   "metadata": {},
   "source": [
    "### 2.  Given an array **print all the numbers that are repeating** in it and the number of times they are repeating.\n",
    "\n",
    "Below is an example:\n",
    "\n",
    "Input: [1, 2, 3, 5, 8, 4, 7, 9, 1, 4, 12, 5, 6, 5, 2, 1, 0, 8, 1]\n",
    "Output:\n",
    "1 - 4\n",
    "2 - 2\n",
    "5 - 3\n",
    "8 - 2\n",
    "4 - 2\n",
    "\n",
    "Note: The final order of output need not be the same as above. The **number after the dash(-)** is the **repeating count**\n"
   ]
  },
  {
   "cell_type": "code",
   "execution_count": 3,
   "metadata": {},
   "outputs": [
    {
     "name": "stdout",
     "output_type": "stream",
     "text": [
      "Enter the value: 1, 2, 3, 5, 8, 4, 7, 9, 1, 4, 12, 5, 6, 5, 2, 1, 0, 8, 1\n",
      "1-4 \n",
      "2-2 \n",
      "5-3 \n",
      "8-2 \n",
      "4-2 \n"
     ]
    }
   ],
   "source": [
    "# Uncomment below pip commend to install collections in your system \n",
    "# !pip install collections-extended\n",
    "import collections\n",
    "\n",
    "# Enter the value into list by separating comma(,) for one value between another value\n",
    "# sample input: (copy and paste) 1, 2, 3, 5, 8, 4, 7, 9, 1, 4, 12, 5, 6, 5, 2, 1, 0, 8, 1\n",
    "\n",
    "input2_value  = list(map(int,input('Enter the value:').split(',')))\n",
    "\n",
    "# Counters are accessed just like dictionaries\n",
    "# Here we are collecting duplicate value as key and no of repetition as keyvalue\n",
    "\n",
    "for item, count in collections.Counter(input2_value).items():\n",
    "    if count > 1:\n",
    "        print(\"{}-{} \".format(item,count))\n"
   ]
  },
  {
   "cell_type": "markdown",
   "metadata": {},
   "source": [
    "### 3. Given an object/dictionary, containing names as keys and amount_paid by each of them as values, write a function that takes such an object as input and calculates the total sum paid by them together.\n",
    "\n",
    "Below is an example:\n",
    "\n",
    "Input: {\"Rick\": 85, \"Amit\": 42, \"George\": 53, \"Tanya\": 60, \"Linda\": 35}\n",
    "Output: 275 "
   ]
  },
  {
   "cell_type": "code",
   "execution_count": 5,
   "metadata": {},
   "outputs": [
    {
     "name": "stdout",
     "output_type": "stream",
     "text": [
      "Input the total number :5\n",
      "Enter name & score separated by \":\" \"Rick\": 85\n",
      "Enter name & score separated by \":\" \"Amit\": 42\n",
      "Enter name & score separated by \":\" \"George\": 53\n",
      "Enter name & score separated by \":\"  \"Tanya\": 60\n",
      "Enter name & score separated by \":\" \"Linda\": 35\n",
      "Total amount paid : 275\n"
     ]
    }
   ],
   "source": [
    "input3_value = {}\n",
    "# Input total number person/object to calculate the sum \n",
    "\n",
    "for totnum in range(0,int(input('Input the total number :'))):\n",
    "    \n",
    "#      Update the name and amount to input3_value dict by collecting from user\n",
    "#      Enter the details one by one by Use \":\" symbol to separate name and amount from input \n",
    "   \n",
    "    name, amount = input('Enter name & score separated by \":\" ').split(\":\")\n",
    "    input3_value[name] = int(amount)\n",
    "    \n",
    "# Display total amount paid \n",
    "print(\"Total amount paid :\",sum(input3_value.values()))"
   ]
  },
  {
   "cell_type": "markdown",
   "metadata": {},
   "source": [
    "### 4. Develop a program to calculate the total and individual player scores in a cricket match. \n",
    "Input would be an array with the index representing the ball number and the value representing the runs scored of that ball.\n",
    "\n",
    "Assumptions/Tips:\n",
    "1.\tNo Extras bowled\n",
    "2.\tBatsman has to be rotated after ever over\n",
    "3.\tBowler can bowl any number of overs\n",
    "4.\tAssume Batsman 1 is on strike for the first ball.\n",
    "\n",
    "\n",
    "Below is an example:\n",
    "\n",
    "Input : [1,2,0,0,4,1,6,2,1,3];\n",
    "\n",
    "Output:\n",
    "Total Score: 20\n",
    "Batsman 1 Score : 4 (1 + 3)\n",
    "Batsman 2 Score : 16 (2 + 4 + 1 + 6 + 2 + 1)"
   ]
  },
  {
   "cell_type": "code",
   "execution_count": 6,
   "metadata": {
    "scrolled": true
   },
   "outputs": [
    {
     "name": "stdout",
     "output_type": "stream",
     "text": [
      "Total score:  1,2,0,0,4,1,6,2,1,3\n",
      "Total Score:  20\n",
      "Batsman 1 Score :  4 ( 1 + 3 )\n",
      "Batsman 2 Score :  16 ( 2 + 0 + 0 + 4 + 1 + 6 + 2 + 1 )\n"
     ]
    }
   ],
   "source": [
    "\n",
    "# Input score one by one by use \",\" to separate\n",
    "input4_value = list(map(int, input(\"Total score:  \").split(\",\")))\n",
    "# Create a variable to store  batsman score\n",
    "batsman1_score = 0\n",
    "batsman2_score = 0\n",
    "# Create a list to store batsman score list \n",
    "batman1_score_list = []\n",
    "batman2_score_list = []\n",
    "# Create a variable to identify batsman strike\n",
    "current_strike = [1]\n",
    "\n",
    "for i in range(len(input4_value)):\n",
    "#     Init and check current strike\n",
    "        if current_strike[0] == 1:\n",
    "#             If batsman hit 1 or 3 run\n",
    "                if (input4_value[i] in (1, 3)):\n",
    "#                     Update batsman score\n",
    "                    batsman1_score += input4_value[i]\n",
    "#                     Update batman score list\n",
    "                    batman1_score_list.append(input4_value[i])\n",
    "#                     current strike change \n",
    "                    current_strike[0]=2\n",
    "#                     Current strike remind same when batsman hit 1 or 3 in last ball of the over\n",
    "                    if((i+1)%6==0):\n",
    "                        current_strike[0]=1\n",
    "            \n",
    "#             If batsman hit 0 or 2 or 4 or 6 run                              \n",
    "                elif (input4_value[i] in (4, 6, 2,0)):\n",
    "#                     Update batsman score     \n",
    "                    batsman1_score += input4_value[i]\n",
    "#                     Update batman score list\n",
    "                    batman1_score_list.append(input4_value[i])\n",
    "#                     current strike remind same \n",
    "                    current_strike[0]=1\n",
    "#                     Current strike change when batsman hit 2 or 6 or 4 or 0 in last ball of the over\n",
    "\n",
    "                    if((i+1)%6==0):\n",
    "                         current_strike[0]=2\n",
    "                            \n",
    "                else:\n",
    "                    pass #To end elif(switch case)statement else block used to pass \n",
    "            \n",
    "        else:\n",
    "#     Init and check current strike  \n",
    "            if current_strike[0] == 2:\n",
    "#             If batsman hit 1 or 3 run   \n",
    "                if (input4_value[i] in (1, 3)):\n",
    "#                     Update batsman score      \n",
    "                    batsman2_score += input4_value[i]\n",
    "#                     Update batman score list\n",
    "                    batman2_score_list.append(input4_value[i])\n",
    "#                     current strike change\n",
    "                    current_strike[0]=1\n",
    "#                     Current strike remind same when batsman hit 1 or 3 in last ball of the over\n",
    "                    if((i+1)%6==0):\n",
    "                         current_strike[0]=2\n",
    "#             If batsman hit 0 or 2 or 4 or 6 run \n",
    "                elif (input4_value[i] in (4, 6, 2,0)):\n",
    "#                     Update batsman score     \n",
    "                    batsman2_score += input4_value[i]\n",
    "#                     Update batman score list\n",
    "                    batman2_score_list.append(input4_value[i])\n",
    "#                     current strike remind same \n",
    "                    current_strike[0]=2\n",
    "#                     Current strike change when batsman hit 2 or 6 or 4 or 0 in last ball of the over\n",
    "\n",
    "                    if((i+1)%6==0):\n",
    "                          current_strike[0]=1\n",
    "                \n",
    "                else:\n",
    "                        pass #To end elif(switch case)statement else block used to pass \n",
    "                    \n",
    "#  Display Total score                   \n",
    "print(\"Total Score: \",sum(input4_value)) \n",
    "# Display the batsman 1 score\n",
    "print(\"Batsman 1 Score : \",batsman1_score, end=\" \");print(\"(\", end=\" \")\n",
    "\n",
    "print(*batman1_score_list, sep = \" + \",end=\" \");print(\")\")\n",
    "# Display the batsman 2 score\n",
    "print(\"Batsman 2 Score : \",batsman2_score, end=\" \");print(\"(\", end=\" \")\n",
    "\n",
    "print(*batman2_score_list, sep = \" + \",end=\" \");print(\")\")"
   ]
  },
  {
   "cell_type": "code",
   "execution_count": null,
   "metadata": {},
   "outputs": [],
   "source": []
  }
 ],
 "metadata": {
  "kernelspec": {
   "display_name": "Python 3",
   "language": "python",
   "name": "python3"
  },
  "language_info": {
   "codemirror_mode": {
    "name": "ipython",
    "version": 3
   },
   "file_extension": ".py",
   "mimetype": "text/x-python",
   "name": "python",
   "nbconvert_exporter": "python",
   "pygments_lexer": "ipython3",
   "version": "3.7.4"
  }
 },
 "nbformat": 4,
 "nbformat_minor": 2
}
